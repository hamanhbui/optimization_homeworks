{
  "nbformat": 4,
  "nbformat_minor": 0,
  "metadata": {
    "colab": {
      "provenance": []
    },
    "kernelspec": {
      "name": "python3",
      "display_name": "Python 3"
    },
    "language_info": {
      "name": "python"
    },
    "accelerator": "GPU",
    "gpuClass": "standard"
  },
  "cells": [
    {
      "cell_type": "code",
      "source": [
        "import numpy as np\n",
        "import pandas as pd\n",
        "import torch\n",
        "import matplotlib.pyplot as plt\n",
        "\n",
        "def func_F(A, B, c):\n",
        "    A_A_inv = A - torch.inverse(A)\n",
        "    term_1 = (c/2) * torch.trace(torch.mm(torch.transpose(A_A_inv, 0, 1), A_A_inv))\n",
        "    A_B = A - B\n",
        "    term_2 = (1/2) * torch.trace(torch.mm(torch.transpose(A_B, 0, 1), A_B))\n",
        "    return term_1 + term_2\n",
        "\n",
        "def grad_F(A, B, c):\n",
        "    A_A_inv = A - torch.inverse(A)\n",
        "    A_tr_inv = torch.transpose(torch.inverse(A), 0, 1)\n",
        "    return c*(torch.mm(torch.mm(A_tr_inv, A_A_inv), A_tr_inv) - torch.inverse(A)) + (1+c) * A - B\n",
        "\n",
        "def check_tmn(grad_F):\n",
        "    for row in grad_F:\n",
        "        for entry in row:\n",
        "            if torch.abs(entry) > 1e-8:\n",
        "                return False\n",
        "    return True\n",
        "\n",
        "if __name__ == \"__main__\":\n",
        "    c, alpha = 5, 0.01\n",
        "    B = pd.read_csv('homework1_data/B.csv')\n",
        "    B = B.drop(['Unnamed: 0'], axis=1).to_numpy()\n",
        "    B = torch.tensor(B)\n",
        "    A = torch.eye(25).double()\n",
        "    T = 0\n",
        "    list_t, list_f, list_logdet = [], [], []\n",
        "    while True:\n",
        "        grad_tmp = grad_F(A, B, c)\n",
        "        if check_tmn(grad_tmp) is True:\n",
        "            break\n",
        "        else:\n",
        "            f_tmp = func_F(A, B, c)\n",
        "            list_f.append(f_tmp)\n",
        "            list_logdet.append(torch.log(torch.det(A)))\n",
        "            list_t.append(T)\n",
        "            A -= alpha * torch.mm(torch.mm(grad_tmp, torch.transpose(A, 0, 1)), A)\n",
        "            T += 1\n",
        "\n",
        "    print(\"The number of required iterations: \" + str(T))\n",
        "    print(\"The value of the objective function at convergence: \" + str(list_f[T-1].item()))\n",
        "\n",
        "    fig, axs = plt.subplots(1, 2, figsize = (8, 4), constrained_layout=True)\n",
        "\n",
        "    axs[0].plot(list_t, list_f)\n",
        "    axs[0].set_xlabel(r'$t$')\n",
        "    axs[0].set_ylabel(r'$F(A_t)$')\n",
        "    axs[0].set_title(r'$F(A)$')\n",
        "\n",
        "    axs[1].plot(list_t, list_logdet)\n",
        "    axs[1].set_xlabel(r'$t$')\n",
        "    axs[1].set_ylabel(r'$\\log(\\det(A_t))$')\n",
        "    axs[1].set_title(r'$\\log(\\det(A))$')\n",
        "\n",
        "    plt.savefig(\"3.3.pdf\")"
      ],
      "metadata": {
        "id": "VINLQaBAUrZy",
        "colab": {
          "base_uri": "https://localhost:8080/",
          "height": 349
        },
        "outputId": "b60b7d5d-8ed1-4a42-db54-4c67070603dc"
      },
      "execution_count": 4,
      "outputs": [
        {
          "output_type": "stream",
          "name": "stdout",
          "text": [
            "The number of required iterations: 90\n",
            "The value of the objective function at convergence: 310.93344862069233\n"
          ]
        },
        {
          "output_type": "display_data",
          "data": {
            "text/plain": [
              "<Figure size 576x288 with 2 Axes>"
            ],
            "image/png": "[encoded data removed]"
          },
          "metadata": {
            "needs_background": "light"
          }
        }
      ]
    }
  ]
}