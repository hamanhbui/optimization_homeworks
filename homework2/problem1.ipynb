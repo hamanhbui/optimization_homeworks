{
  "nbformat": 4,
  "nbformat_minor": 0,
  "metadata": {
    "colab": {
      "provenance": []
    },
    "kernelspec": {
      "name": "python3",
      "display_name": "Python 3"
    },
    "language_info": {
      "name": "python"
    },
    "accelerator": "GPU",
    "gpuClass": "standard"
  },
  "cells": [
    {
      "cell_type": "code",
      "execution_count": 1,
      "metadata": {
        "id": "LaJ4EaqcUYAa"
      },
      "outputs": [],
      "source": [
        "import numpy as np\n",
        "import pandas as pd\n",
        "from matplotlib import pyplot as plt\n",
        "import torch\n",
        "\n",
        "def func_F(x, A):\n",
        "    nemonator = torch.matmul(torch.matmul(x.t(), A), x)\n",
        "    denominator = torch.matmul(x.t(), x)\n",
        "    out = nemonator/denominator\n",
        "    return out\n",
        "\n",
        "def grad_F(x, A):\n",
        "    nemonator = 2 * torch.matmul(A, x) * torch.matmul(x.t(), x) - torch.matmul(torch.matmul(x.t(), A), x) * 2 * x\n",
        "    denominator = torch.matmul(x.t(), x) ** 2\n",
        "    out = nemonator/denominator\n",
        "    return out\n",
        "\n",
        "def func_h(x, A):\n",
        "    nemonator = torch.matmul(torch.matmul(x.t(), A), x)\n",
        "    denominator = torch.norm(x) ** 2\n",
        "    out = torch.matmul(A, x) - (nemonator/denominator) * x\n",
        "    return out\n",
        "\n",
        "def func_w(x, A):\n",
        "    h_x = func_h(x, A)\n",
        "    return torch.matmul(torch.matmul(h_x.t(), A), h_x)\n",
        "\n",
        "def func_v(x, A):\n",
        "    term_1 = (torch.norm(torch.matmul(A, x)) ** 2) / (torch.norm(x) ** 2)\n",
        "    term_2 = func_F(x, A) ** 2\n",
        "    return term_1 - term_2\n",
        "\n",
        "def func_alpha_star(x, A):\n",
        "    w_x = func_w(x, A)\n",
        "    v_x = func_v(x, A)\n",
        "    F_x = func_F(x, A)\n",
        "    nemonator = -(w_x - F_x * v_x) + torch.sqrt((w_x - F_x * v_x) ** 2 + 4 * (v_x ** 3))\n",
        "    denominator = 2 * (v_x ** 2)\n",
        "    return nemonator / denominator"
      ]
    },
    {
      "cell_type": "code",
      "source": [
        "if __name__ == \"__main__\":\n",
        "    A = pd.read_csv('homework2_data/project2_A.csv')\n",
        "    A = A.drop(['Unnamed: 0'], axis=1).to_numpy()\n",
        "    A = torch.tensor(A)\n",
        "    \n",
        "    x = torch.ones(A.shape[0], dtype = torch.float64)\n",
        "    x_0 = x/np.sqrt(A.shape[0])\n",
        "\n",
        "    epsilon = 1e-6\n",
        "    N = 2000\n",
        "    t = 0\n",
        "    list_t, list_f = [], []\n",
        "    while True:\n",
        "        if t == N or torch.norm(grad_F(x, A)) < epsilon:\n",
        "            break\n",
        "        list_f.append(func_F(x, A))\n",
        "        list_t.append(t)\n",
        "        tmp = x - func_alpha_star(x, A) * func_h(x, A)\n",
        "        x = tmp/torch.norm(tmp)\n",
        "        t += 1\n",
        "\n",
        "    print(\"The number of required iterations: \" + str(t))\n",
        "    print(\"The value of the objective function at convergence: \" + str(list_f[t-1].item()))\n",
        "\n",
        "    plt.plot(list_t, list_f)\n",
        "    plt.xlabel(\"t\")\n",
        "    plt.ylabel(r'$F(x_t)$')\n",
        "    plt.title(\"Visualiztion of \" + r'$F(x_t)$' + \" as a function of t\")\n",
        "    plt.savefig(\"1.1.pdf\")"
      ],
      "metadata": {
        "colab": {
          "base_uri": "https://localhost:8080/",
          "height": 333
        },
        "id": "usIA4zc5UigO",
        "outputId": "7a9e12f9-9649-4999-d761-347b12ed3cf4"
      },
      "execution_count": 5,
      "outputs": [
        {
          "output_type": "stream",
          "name": "stdout",
          "text": [
            "The number of required iterations: 304\n",
            "The value of the objective function at convergence: -13.574511277318216\n"
          ]
        },
        {
          "output_type": "display_data",
          "data": {
            "text/plain": [
              "<Figure size 432x288 with 1 Axes>"
            ],
            "image/png": "[encoded data removed]"
          },
          "metadata": {
            "needs_background": "light"
          }
        }
      ]
    }
  ]
}